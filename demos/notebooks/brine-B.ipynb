{
 "cells": [
  {
   "cell_type": "code",
   "execution_count": 1,
   "metadata": {},
   "outputs": [],
   "source": [
    "from reaktoro import *\n",
    "\n",
    "# db = Database(\"supcrt98-organics.xml\")  # if you need organic species\n",
    "db = Database(\"supcrt98.xml\")"
   ]
  },
  {
   "cell_type": "code",
   "execution_count": 2,
   "metadata": {},
   "outputs": [
    {
     "data": {
      "text/plain": [
       "<reaktoro.PyReaktoro.AqueousPhase at 0x7f93789892f0>"
      ]
     },
     "execution_count": 2,
     "metadata": {},
     "output_type": "execute_result"
    }
   ],
   "source": [
    "editor = ChemicalEditor(db)\n",
    "editor.addAqueousPhaseWithElements(\"H O Na Ca Mg K Ba Sr S Cl\")"
   ]
  },
  {
   "cell_type": "code",
   "execution_count": 3,
   "metadata": {},
   "outputs": [],
   "source": [
    "# editor.addAqueousPhase(\n",
    "#     [\n",
    "#         \"H2O(l)\", \n",
    "#         \"Na+\", \n",
    "#         \"Ca++\", \n",
    "#         \"Mg++\", \n",
    "#         \"K+\", \n",
    "#         \"Ba++\", \n",
    "#         \"Sr++\",\n",
    "#         \"SO4--\",\n",
    "#         \"Cl-\"\n",
    "#     ]\n",
    "# )"
   ]
  },
  {
   "cell_type": "code",
   "execution_count": 4,
   "metadata": {},
   "outputs": [],
   "source": [
    "system = ChemicalSystem(editor)"
   ]
  },
  {
   "cell_type": "code",
   "execution_count": 5,
   "metadata": {},
   "outputs": [
    {
     "data": {
      "text/plain": [
       "<reaktoro.PyReaktoro.EquilibriumProblem at 0x7f936ad9d4f0>"
      ]
     },
     "execution_count": 5,
     "metadata": {},
     "output_type": "execute_result"
    }
   ],
   "source": [
    "problem = EquilibriumProblem(system)\n",
    "problem.setTemperature(25, \"celsius\")\n",
    "problem.setPressure(14.7, \"psi\")\n",
    "problem.add(\"H2O\", 1, \"kg\")\n",
    "problem.add(\"Na+\", 57584, \"mg\")\n",
    "problem.add(\"Ca++\", 24260, \"mg\")\n",
    "problem.add(\"Mg++\", 2121, \"mg\")\n",
    "problem.add(\"K+\", 1201, \"mg\")\n",
    "problem.add(\"Ba++\", 22, \"mg\")\n",
    "problem.add(\"Sr++\", 1269, \"mg\")\n",
    "problem.add(\"SO4--\", 54, \"mg\")\n",
    "problem.add(\"Cl-\", 139900, \"mg\")"
   ]
  },
  {
   "cell_type": "code",
   "execution_count": 6,
   "metadata": {},
   "outputs": [],
   "source": [
    "state = equilibrate(problem)"
   ]
  },
  {
   "cell_type": "code",
   "execution_count": 7,
   "metadata": {},
   "outputs": [
    {
     "name": "stdout",
     "output_type": "stream",
     "text": [
      "T = 298.15 K\n",
      "P = 101352.93231756466 Pa\n",
      "n (in mol) = \n",
      "[1.32463996e-04 2.77375606e-05 5.83447496e-12 3.51054673e-01\n",
      " 1.53764431e-01 1.00288018e-01 9.36659986e-08 2.12411290e-04\n",
      " 2.98491784e+00 2.88410570e-21 2.73095545e-22 2.49118344e-22\n",
      " 1.89056135e-22 3.46876028e-07 2.53346530e-22 5.55084346e+01\n",
      " 1.34870378e-21 4.45474114e-23 3.76072286e-23 4.04900275e-23\n",
      " 8.25750061e-08 4.39601859e-21 2.10237386e-22 5.65640655e-22\n",
      " 4.44872817e-23 3.97543874e-23 4.30825041e-23 2.00758012e-22\n",
      " 5.72985192e-10 2.99397978e-22 3.05813751e-02 1.32247147e-04\n",
      " 2.29054041e-15 3.49810172e-10 3.82547376e-06 4.64235190e-02\n",
      " 4.07907042e-02 2.44629669e-07 5.15268213e-05 1.94311099e+00\n",
      " 5.61467906e-01 4.43730925e-08 1.87307035e-04 1.32366297e-15\n",
      " 4.61786413e-08 2.27426050e-23 4.19018306e-23 4.52337388e-23\n",
      " 6.31510974e-23 9.83827775e-23 1.43713355e-22 1.55734015e-23\n",
      " 3.23555536e-23 1.18322491e-23 2.08101925e-23 9.53524738e-24\n",
      " 1.39171164e-23 1.63977102e-22 2.01691090e-22 1.07062248e-04\n",
      " 1.00905339e-02 4.39246000e-03 8.20975418e-10]\n"
     ]
    }
   ],
   "source": [
    "T = state.temperature()\n",
    "P = state.pressure()\n",
    "n = state.speciesAmounts()\n",
    "\n",
    "print(f\"T = {T} K\")\n",
    "print(f\"P = {P} Pa\")\n",
    "print(f\"n (in mol) = \\n{n}\")"
   ]
  },
  {
   "cell_type": "code",
   "execution_count": 8,
   "metadata": {},
   "outputs": [
    {
     "name": "stdout",
     "output_type": "stream",
     "text": [
      "Species names : n (in mol)\n",
      "         Ba++ = 0.00013246399630271498\n",
      "        BaCl+ = 2.773756055623524e-05\n",
      "        BaOH+ = 5.83447495960547e-12\n",
      "         Ca++ = 0.3510546726016321\n",
      "        CaCl+ = 0.15376443119220312\n",
      "    CaCl2(aq) = 0.10028801797756821\n",
      "        CaOH+ = 9.36659985731672e-08\n",
      "    CaSO4(aq) = 0.00021241129047854987\n",
      "          Cl- = 2.9849178389756803\n",
      "         ClO- = 2.884105703956943e-21\n",
      "        ClO2- = 2.7309554529725925e-22\n",
      "        ClO3- = 2.491183438039824e-22\n",
      "        ClO4- = 1.8905613543292854e-22\n",
      "           H+ = 3.4687602757779493e-07\n",
      "       H2(aq) = 2.533465304237573e-22\n",
      "       H2O(l) = 55.50843463176796\n",
      "     H2O2(aq) = 1.3487037780475407e-21\n",
      "      H2S(aq) = 4.4547411382208996e-23\n",
      "   H2S2O3(aq) = 3.760722856971548e-23\n",
      "   H2S2O4(aq) = 4.049002747584924e-23\n",
      "      HCl(aq) = 8.257500605702868e-08\n",
      "     HClO(aq) = 4.396018587411813e-21\n",
      "    HClO2(aq) = 2.1023738553419785e-22\n",
      "         HO2- = 5.656406553023589e-22\n",
      "          HS- = 4.4487281733678257e-23\n",
      "       HS2O3- = 3.97543873937513e-23\n",
      "       HS2O4- = 4.3082504128870424e-23\n",
      "        HSO3- = 2.0075801243370203e-22\n",
      "        HSO4- = 5.729851918399492e-10\n",
      "        HSO5- = 2.9939797841274454e-22\n",
      "           K+ = 0.030581375102318703\n",
      "      KCl(aq) = 0.00013224714730147288\n",
      "    KHSO4(aq) = 2.2905404085473725e-15\n",
      "      KOH(aq) = 3.498101719330531e-10\n",
      "        KSO4- = 3.825473757244292e-06\n",
      "         Mg++ = 0.0464235190161766\n",
      "        MgCl+ = 0.04079070418411797\n",
      "        MgOH+ = 2.4462966899789624e-07\n",
      "    MgSO4(aq) = 5.152682134275058e-05\n",
      "          Na+ = 1.9431109925056618\n",
      "     NaCl(aq) = 0.5614679064661834\n",
      "     NaOH(aq) = 4.4373092508796346e-08\n",
      "       NaSO4- = 0.00018730703512313202\n",
      "       O2(aq) = 1.3236629733097789e-15\n",
      "          OH- = 4.617864133689768e-08\n",
      "         S2-- = 2.2742604965953306e-23\n",
      "       S2O3-- = 4.19018306485963e-23\n",
      "       S2O4-- = 4.523373882428219e-23\n",
      "       S2O5-- = 6.315109736147599e-23\n",
      "       S2O6-- = 9.838277747590528e-23\n",
      "       S2O8-- = 1.437133547978869e-22\n",
      "         S3-- = 1.5573401538818166e-23\n",
      "       S3O6-- = 3.235555364602166e-23\n",
      "         S4-- = 1.1832249065134431e-23\n",
      "       S4O6-- = 2.081019248179685e-23\n",
      "         S5-- = 9.5352473808508e-24\n",
      "       S5O6-- = 1.3917116386855348e-23\n",
      "      SO2(aq) = 1.63977101889103e-22\n",
      "        SO3-- = 2.0169108969407205e-22\n",
      "        SO4-- = 0.00010706224846210474\n",
      "         Sr++ = 0.010090533932577337\n",
      "        SrCl+ = 0.004392459996504311\n",
      "        SrOH+ = 8.20975418353964e-10\n"
     ]
    }
   ],
   "source": [
    "print(\"Species names : n (in mol)\")\n",
    "for species in system.species():\n",
    "    name = species.name()\n",
    "    amount = state.speciesAmount(name)\n",
    "    print(f\"{name:>13} = {amount}\")"
   ]
  },
  {
   "cell_type": "code",
   "execution_count": 9,
   "metadata": {},
   "outputs": [],
   "source": [
    "properties = state.properties()"
   ]
  },
  {
   "cell_type": "code",
   "execution_count": 10,
   "metadata": {},
   "outputs": [
    {
     "data": {
      "text/plain": [
       "6.743985214329358"
      ]
     },
     "execution_count": 10,
     "metadata": {},
     "output_type": "execute_result"
    }
   ],
   "source": [
    "evaluate_pH = ChemicalProperty.pH(system)\n",
    "pH = evaluate_pH(properties)\n",
    "\n",
    "pH.val"
   ]
  },
  {
   "cell_type": "code",
   "execution_count": 11,
   "metadata": {},
   "outputs": [
    {
     "data": {
      "text/plain": [
       "array([1.1374506])"
      ]
     },
     "execution_count": 11,
     "metadata": {},
     "output_type": "execute_result"
    }
   ],
   "source": [
    "density_in_kg_m3 = properties.phaseDensities().val\n",
    "density_in_g_ml = 1e-3 * density_in_kg_m3\n",
    "\n",
    "density_in_g_ml"
   ]
  }
 ],
 "metadata": {
  "kernelspec": {
   "display_name": "Python 3",
   "language": "python",
   "name": "python3"
  },
  "language_info": {
   "codemirror_mode": {
    "name": "ipython",
    "version": 3
   },
   "file_extension": ".py",
   "mimetype": "text/x-python",
   "name": "python",
   "nbconvert_exporter": "python",
   "pygments_lexer": "ipython3",
   "version": "3.7.6"
  }
 },
 "nbformat": 4,
 "nbformat_minor": 4
}
