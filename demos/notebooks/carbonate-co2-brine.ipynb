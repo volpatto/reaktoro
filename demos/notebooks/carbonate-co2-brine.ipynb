{
 "cells": [
  {
   "cell_type": "markdown",
   "metadata": {},
   "source": [
    "## Step 1: Import the reaktoro Python package"
   ]
  },
  {
   "cell_type": "code",
   "execution_count": 1,
   "metadata": {},
   "outputs": [],
   "source": [
    "from reaktoro import *"
   ]
  },
  {
   "cell_type": "markdown",
   "metadata": {},
   "source": [
    "## Step 2: Specify the phases in the chemical system and their species"
   ]
  },
  {
   "cell_type": "code",
   "execution_count": 2,
   "metadata": {},
   "outputs": [
    {
     "data": {
      "text/plain": [
       "<reaktoro.PyReaktoro.MineralPhase at 0x7f2d57253330>"
      ]
     },
     "execution_count": 2,
     "metadata": {},
     "output_type": "execute_result"
    }
   ],
   "source": [
    "editor = ChemicalEditor()\n",
    "editor.addAqueousPhaseWithElementsOf(\"H2O NaCl CaCO3 MgCO3\")\n",
    "editor.addGaseousPhase([\"H2O(g)\", \"CO2(g)\"])\n",
    "editor.addMineralPhase(\"Calcite\")\n",
    "editor.addMineralPhase(\"Magnesite\")\n",
    "editor.addMineralPhase(\"Dolomite\")\n",
    "editor.addMineralPhase(\"Halite\")"
   ]
  },
  {
   "cell_type": "markdown",
   "metadata": {},
   "source": [
    "## Step 3: Define the kinetically-controlled reactions"
   ]
  },
  {
   "cell_type": "code",
   "execution_count": 3,
   "metadata": {},
   "outputs": [
    {
     "data": {
      "text/plain": [
       "<reaktoro.PyReaktoro.MineralReaction at 0x7f2d57253830>"
      ]
     },
     "execution_count": 3,
     "metadata": {},
     "output_type": "execute_result"
    }
   ],
   "source": [
    "editor.addMineralReaction(\"Calcite\") \\\n",
    "    .setEquation(\"Calcite = Ca++ + CO3--\") \\\n",
    "    .addMechanism(\"logk = -5.81 mol/(m2*s); Ea = 23.5 kJ/mol\") \\\n",
    "    .addMechanism(\"logk = -0.30 mol/(m2*s); Ea = 14.4 kJ/mol; a[H+] = 1.0\") \\\n",
    "    .setSpecificSurfaceArea(10, \"cm2/g\")\n",
    "\n",
    "editor.addMineralReaction(\"Magnesite\") \\\n",
    "    .setEquation(\"Magnesite = Mg++ + CO3--\") \\\n",
    "    .addMechanism(\"logk = -9.34 mol/(m2*s); Ea = 23.5 kJ/mol\") \\\n",
    "    .addMechanism(\"logk = -6.38 mol/(m2*s); Ea = 14.4 kJ/mol; a[H+] = 1.0\") \\\n",
    "    .setSpecificSurfaceArea(10, \"cm2/g\")\n",
    "\n",
    "editor.addMineralReaction(\"Dolomite\") \\\n",
    "    .setEquation(\"Dolomite = Ca++ + Mg++ + 2*CO3--\") \\\n",
    "    .addMechanism(\"logk = -7.53 mol/(m2*s); Ea = 52.2 kJ/mol\") \\\n",
    "    .addMechanism(\"logk = -3.19 mol/(m2*s); Ea = 36.1 kJ/mol; a[H+] = 0.5\") \\\n",
    "    .setSpecificSurfaceArea(10, \"cm2/g\")"
   ]
  },
  {
   "cell_type": "markdown",
   "metadata": {},
   "source": [
    "## Step 4: Construct the chemical system"
   ]
  },
  {
   "cell_type": "code",
   "execution_count": 4,
   "metadata": {},
   "outputs": [],
   "source": [
    "system = ChemicalSystem(editor)\n",
    "reactions = ReactionSystem(editor)"
   ]
  },
  {
   "cell_type": "markdown",
   "metadata": {},
   "source": [
    "## Step 5: Specify the equilibrium and kinetic species"
   ]
  },
  {
   "cell_type": "code",
   "execution_count": 5,
   "metadata": {},
   "outputs": [],
   "source": [
    "partition = Partition(system)\n",
    "partition.setKineticSpecies([\"Calcite\", \"Magnesite\", \"Dolomite\"])"
   ]
  },
  {
   "cell_type": "markdown",
   "metadata": {},
   "source": [
    "## Step 6: Define the initial chemical equilibrium state"
   ]
  },
  {
   "cell_type": "code",
   "execution_count": 6,
   "metadata": {},
   "outputs": [
    {
     "data": {
      "text/plain": [
       "<reaktoro.PyReaktoro.EquilibriumProblem at 0x7f2d57267670>"
      ]
     },
     "execution_count": 6,
     "metadata": {},
     "output_type": "execute_result"
    }
   ],
   "source": [
    "problem = EquilibriumProblem(system)\n",
    "problem.setPartition(partition)\n",
    "problem.setTemperature(60, \"celsius\")\n",
    "problem.setPressure(100, \"bar\")\n",
    "problem.add(\"H2O\", 1, \"kg\")\n",
    "problem.add(\"NaCl\", 0.5, \"mol\")\n",
    "problem.add(\"CO2\", 1, \"mol\")"
   ]
  },
  {
   "cell_type": "markdown",
   "metadata": {},
   "source": [
    "## Step 7: Calculate the initial chemical equilibrium state"
   ]
  },
  {
   "cell_type": "code",
   "execution_count": 7,
   "metadata": {},
   "outputs": [],
   "source": [
    "state0 = equilibrate(problem)"
   ]
  },
  {
   "cell_type": "markdown",
   "metadata": {},
   "source": [
    "## Step 8: Set the initial mass of the kinetic species"
   ]
  },
  {
   "cell_type": "code",
   "execution_count": 8,
   "metadata": {},
   "outputs": [],
   "source": [
    "state0.setSpeciesMass(\"Calcite\", 100, \"g\")\n",
    "state0.setSpeciesMass(\"Dolomite\", 50, \"g\")"
   ]
  },
  {
   "cell_type": "markdown",
   "metadata": {},
   "source": [
    "## Step 9: Create a kinetic path solver"
   ]
  },
  {
   "cell_type": "code",
   "execution_count": 9,
   "metadata": {},
   "outputs": [],
   "source": [
    "path = KineticPath(reactions)\n",
    "path.setPartition(partition)"
   ]
  },
  {
   "cell_type": "code",
   "execution_count": 10,
   "metadata": {},
   "outputs": [],
   "source": [
    "output = path.output()\n",
    "output.filename(\"results.txt\")\n",
    "output.add(\"time(units=minute)\")\n",
    "output.add(\"pH\")\n",
    "output.add(\"elementMolality(Ca units=mmolal)\", \"Ca [mmolal]\")\n",
    "output.add(\"elementMolality(Mg units=mmolal)\", \"Mg [mmolal]\")\n",
    "output.add(\"phaseMass(Calcite units=g)\", \"Calcite [units=g]\")\n",
    "output.add(\"phaseMass(Dolomite units=g)\", \"Dolomite [units=g]\")"
   ]
  },
  {
   "cell_type": "markdown",
   "metadata": {},
   "source": [
    "## Step 11: Perform the kinetic path calculation"
   ]
  },
  {
   "cell_type": "code",
   "execution_count": 11,
   "metadata": {},
   "outputs": [],
   "source": [
    "t0, t1 = 0.0, 25.0\n",
    "path.solve(state0, t0, t1, \"hours\")"
   ]
  },
  {
   "cell_type": "code",
   "execution_count": 12,
   "metadata": {},
   "outputs": [
    {
     "data": {
      "text/plain": [
       "{'time(units=minute)': array([0.00000e+00, 2.25811e-06, 8.11963e-03, 3.60871e-02, 6.40545e-02,\n",
       "        9.20219e-02, 1.37741e-01, 1.83460e-01, 2.56967e-01, 3.30474e-01,\n",
       "        4.03981e-01, 4.77487e-01, 5.50994e-01, 6.24501e-01, 7.38037e-01,\n",
       "        9.11300e-01, 1.20500e+00, 1.40548e+00, 1.60596e+00, 1.94397e+00,\n",
       "        2.28197e+00, 2.61997e+00, 2.95797e+00, 3.29598e+00, 3.63398e+00,\n",
       "        4.14792e+00, 4.66186e+00, 5.17580e+00, 5.68974e+00, 6.20368e+00,\n",
       "        6.71762e+00, 7.23157e+00, 7.74551e+00, 8.11362e+00, 8.48174e+00,\n",
       "        8.84986e+00, 9.21798e+00, 9.47709e+00, 9.73620e+00, 9.99530e+00,\n",
       "        1.02544e+01, 1.05135e+01, 1.07726e+01, 1.10317e+01, 1.12908e+01,\n",
       "        1.15499e+01, 1.18091e+01, 1.20682e+01, 1.23273e+01, 1.25864e+01,\n",
       "        1.28455e+01, 1.31046e+01, 1.33637e+01, 1.36228e+01, 1.38819e+01,\n",
       "        1.41410e+01, 1.44001e+01, 1.46592e+01, 1.49138e+01, 1.51683e+01,\n",
       "        1.54229e+01, 1.56775e+01, 1.59320e+01, 1.63234e+01, 1.67148e+01,\n",
       "        1.71062e+01, 1.74976e+01, 1.82082e+01, 1.89188e+01, 1.99898e+01,\n",
       "        2.10607e+01, 2.21316e+01, 2.32026e+01, 2.42735e+01, 2.53444e+01,\n",
       "        2.64154e+01, 2.85350e+01, 3.01015e+01, 3.16681e+01, 3.32347e+01,\n",
       "        3.48013e+01, 3.63678e+01, 3.90227e+01, 4.16776e+01, 4.43325e+01,\n",
       "        4.69874e+01, 4.96422e+01, 5.22971e+01, 5.49520e+01, 5.76069e+01,\n",
       "        6.02618e+01, 6.42892e+01, 6.83165e+01, 7.23439e+01, 7.63713e+01,\n",
       "        8.03987e+01, 8.66617e+01, 9.29247e+01, 9.91877e+01, 1.11197e+02,\n",
       "        1.31013e+02, 1.50828e+02, 1.70644e+02, 1.90459e+02, 2.10275e+02,\n",
       "        2.30090e+02, 2.49906e+02, 2.80009e+02, 3.10112e+02, 3.40215e+02,\n",
       "        3.70319e+02, 4.00422e+02, 4.30525e+02, 4.60628e+02, 4.90732e+02,\n",
       "        5.20835e+02, 5.50938e+02, 5.81041e+02, 6.11144e+02, 6.41248e+02,\n",
       "        6.71351e+02, 7.01454e+02, 7.31557e+02, 7.61660e+02, 7.91764e+02,\n",
       "        8.21867e+02, 8.51970e+02, 9.12720e+02, 9.73470e+02, 1.03422e+03,\n",
       "        1.09497e+03, 1.19241e+03, 1.28984e+03, 1.38728e+03, 1.48472e+03]),\n",
       " 'pH': array([3.13656, 3.13656, 3.15023, 3.1943 , 3.23455, 3.27102, 3.32374,\n",
       "        3.36905, 3.43006, 3.48008, 3.5223 , 3.55881, 3.59088, 3.6194 ,\n",
       "        3.65793, 3.70707, 3.77245, 3.80921, 3.84126, 3.88706, 3.92482,\n",
       "        3.95687, 3.98523, 4.0112 , 4.0351 , 4.0671 , 4.09409, 4.11783,\n",
       "        4.14044, 4.16254, 4.1823 , 4.19901, 4.2149 , 4.22684, 4.23749,\n",
       "        4.24619, 4.25518, 4.26252, 4.26937, 4.27516, 4.28103, 4.28759,\n",
       "        4.29365, 4.2986 , 4.30369, 4.30965, 4.31531, 4.31987, 4.32439,\n",
       "        4.32973, 4.33506, 4.33949, 4.34353, 4.34808, 4.3531 , 4.35743,\n",
       "        4.36095, 4.36454, 4.36844, 4.37251, 4.37652, 4.38041, 4.3842 ,\n",
       "        4.38987, 4.39541, 4.40086, 4.4062 , 4.41564, 4.42472, 4.43783,\n",
       "        4.45035, 4.46219, 4.47332, 4.48386, 4.49394, 4.50362, 4.52188,\n",
       "        4.53449, 4.54629, 4.55742, 4.56805, 4.57823, 4.5946 , 4.60994,\n",
       "        4.62418, 4.63735, 4.64966, 4.6613 , 4.67234, 4.68277, 4.69263,\n",
       "        4.70659, 4.71952, 4.73158, 4.74285, 4.75334, 4.76825, 4.78165,\n",
       "        4.79373, 4.81366, 4.83901, 4.85724, 4.87031, 4.87977, 4.88683,\n",
       "        4.89227, 4.8966 , 4.90187, 4.90615, 4.90983, 4.91319, 4.91639,\n",
       "        4.91947, 4.92235, 4.92503, 4.92753, 4.92992, 4.93217, 4.93423,\n",
       "        4.93609, 4.93779, 4.93937, 4.94084, 4.94214, 4.94331, 4.94437,\n",
       "        4.94533, 4.94695, 4.94824, 4.94929, 4.95013, 4.95113, 4.95181,\n",
       "        4.95227, 4.95259]),\n",
       " 'Ca [mmolal]': array([6.00023e-17, 9.73273e-06, 3.39481e-02, 1.43605e-01, 2.44819e-01,\n",
       "        3.38174e-01, 4.77162e-01, 6.01827e-01, 7.79684e-01, 9.36190e-01,\n",
       "        1.07743e+00, 1.20734e+00, 1.32816e+00, 1.44137e+00, 1.60384e+00,\n",
       "        1.82862e+00, 2.16272e+00, 2.37079e+00, 2.56543e+00, 2.86689e+00,\n",
       "        3.13763e+00, 3.38472e+00, 3.61799e+00, 3.84512e+00, 4.06616e+00,\n",
       "        4.38054e+00, 4.66182e+00, 4.92270e+00, 5.18570e+00, 5.45800e+00,\n",
       "        5.71243e+00, 5.93394e+00, 6.15287e+00, 6.32487e+00, 6.48080e+00,\n",
       "        6.60814e+00, 6.74356e+00, 6.85919e+00, 6.96817e+00, 7.05963e+00,\n",
       "        7.15444e+00, 7.26369e+00, 7.36529e+00, 7.44719e+00, 7.53305e+00,\n",
       "        7.63749e+00, 7.73750e+00, 7.81671e+00, 7.89617e+00, 7.99386e+00,\n",
       "        8.09281e+00, 8.17404e+00, 8.24790e+00, 8.33372e+00, 8.43103e+00,\n",
       "        8.51435e+00, 8.58034e+00, 8.64877e+00, 8.72534e+00, 8.80668e+00,\n",
       "        8.88760e+00, 8.96646e+00, 9.04394e+00, 9.16106e+00, 9.27697e+00,\n",
       "        9.39241e+00, 9.50715e+00, 9.71336e+00, 9.91599e+00, 1.02164e+01,\n",
       "        1.05121e+01, 1.07995e+01, 1.10762e+01, 1.13442e+01, 1.16068e+01,\n",
       "        1.18651e+01, 1.23688e+01, 1.27291e+01, 1.30750e+01, 1.34097e+01,\n",
       "        1.37375e+01, 1.40594e+01, 1.45937e+01, 1.51138e+01, 1.56130e+01,\n",
       "        1.60885e+01, 1.65457e+01, 1.69908e+01, 1.74244e+01, 1.78448e+01,\n",
       "        1.82517e+01, 1.88443e+01, 1.94115e+01, 1.99578e+01, 2.04837e+01,\n",
       "        2.09874e+01, 2.17285e+01, 2.24218e+01, 2.30708e+01, 2.42005e+01,\n",
       "        2.57707e+01, 2.70352e+01, 2.80566e+01, 2.88958e+01, 2.96055e+01,\n",
       "        3.02219e+01, 3.07673e+01, 3.15000e+01, 3.21453e+01, 3.27240e+01,\n",
       "        3.32561e+01, 3.37567e+01, 3.42275e+01, 3.46628e+01, 3.50603e+01,\n",
       "        3.54260e+01, 3.57660e+01, 3.60806e+01, 3.63661e+01, 3.66223e+01,\n",
       "        3.68540e+01, 3.70670e+01, 3.72614e+01, 3.74356e+01, 3.75893e+01,\n",
       "        3.77265e+01, 3.78509e+01, 3.80623e+01, 3.82313e+01, 3.83669e+01,\n",
       "        3.84751e+01, 3.86033e+01, 3.86903e+01, 3.87494e+01, 3.87897e+01]),\n",
       " 'Mg [mmolal]': array([5.00019e-17, 5.47629e-07, 1.93849e-03, 8.39588e-03, 1.45894e-02,\n",
       "        2.05288e-02, 2.97720e-02, 3.85103e-02, 5.17137e-02, 6.40755e-02,\n",
       "        7.57910e-02, 8.69951e-02, 9.77740e-02, 1.08187e-01, 1.23657e-01,\n",
       "        1.46075e-01, 1.81509e-01, 2.04457e-01, 2.26581e-01, 2.62278e-01,\n",
       "        2.96184e-01, 3.28613e-01, 3.59951e-01, 3.90504e-01, 4.20346e-01,\n",
       "        4.64208e-01, 5.06206e-01, 5.46834e-01, 5.86805e-01, 6.26355e-01,\n",
       "        6.64770e-01, 7.01711e-01, 7.38106e-01, 7.64320e-01, 7.89849e-01,\n",
       "        8.14368e-01, 8.38935e-01, 8.56689e-01, 8.74155e-01, 8.91034e-01,\n",
       "        9.07926e-01, 9.25143e-01, 9.42057e-01, 9.58334e-01, 9.74654e-01,\n",
       "        9.91427e-01, 1.00800e+00, 1.02390e+00, 1.03976e+00, 1.05606e+00,\n",
       "        1.07233e+00, 1.08803e+00, 1.10346e+00, 1.11918e+00, 1.13516e+00,\n",
       "        1.15068e+00, 1.16566e+00, 1.18065e+00, 1.19561e+00, 1.21065e+00,\n",
       "        1.22562e+00, 1.24048e+00, 1.25526e+00, 1.27782e+00, 1.30025e+00,\n",
       "        1.32255e+00, 1.34474e+00, 1.38468e+00, 1.42421e+00, 1.48305e+00,\n",
       "        1.54110e+00, 1.59826e+00, 1.65452e+00, 1.70997e+00, 1.76475e+00,\n",
       "        1.81890e+00, 1.92445e+00, 2.00095e+00, 2.07606e+00, 2.14995e+00,\n",
       "        2.22281e+00, 2.29468e+00, 2.41435e+00, 2.53139e+00, 2.64555e+00,\n",
       "        2.75676e+00, 2.86537e+00, 2.97163e+00, 3.07552e+00, 3.17688e+00,\n",
       "        3.27569e+00, 3.42074e+00, 3.56003e+00, 3.69366e+00, 3.82145e+00,\n",
       "        3.94316e+00, 4.12012e+00, 4.28186e+00, 4.42820e+00, 4.66549e+00,\n",
       "        4.93627e+00, 5.07030e+00, 5.09239e+00, 5.03112e+00, 4.91327e+00,\n",
       "        4.76065e+00, 4.58941e+00, 4.31681e+00, 4.05039e+00, 3.80041e+00,\n",
       "        3.57097e+00, 3.36167e+00, 3.17298e+00, 3.00408e+00, 2.85515e+00,\n",
       "        2.72388e+00, 2.60900e+00, 2.50743e+00, 2.41871e+00, 2.34028e+00,\n",
       "        2.27247e+00, 2.21206e+00, 2.16016e+00, 2.11309e+00, 2.07365e+00,\n",
       "        2.03981e+00, 2.00982e+00, 1.95803e+00, 1.91687e+00, 1.88480e+00,\n",
       "        1.86009e+00, 1.83171e+00, 1.81283e+00, 1.80009e+00, 1.79141e+00]),\n",
       " 'Calcite [units=g]': array([100.    , 100.    ,  99.9968,  99.9865,  99.977 ,  99.9682,\n",
       "         99.9552,  99.9436,  99.9271,  99.9127,  99.8998,  99.8879,\n",
       "         99.8769,  99.8666,  99.8519,  99.8316,  99.8017,  99.7832,\n",
       "         99.7659,  99.7393,  99.7156,  99.6942,  99.6739,  99.6543,\n",
       "         99.6351,  99.6081,  99.5841,  99.5621,  99.5398,  99.5165,\n",
       "         99.4949,  99.4764,  99.4581,  99.4435,  99.4305,  99.4202,\n",
       "         99.4091,  99.3993,  99.3902,  99.3827,  99.3749,  99.3657,\n",
       "         99.3572,  99.3507,  99.3437,  99.3349,  99.3266,  99.3203,\n",
       "         99.3139,  99.3057,  99.2975,  99.2909,  99.2851,  99.2781,\n",
       "         99.2699,  99.2631,  99.258 ,  99.2527,  99.2465,  99.2399,\n",
       "         99.2333,  99.2269,  99.2206,  99.2112,  99.2018,  99.1925,\n",
       "         99.1832,  99.1666,  99.1503,  99.1261,  99.1023,  99.0793,\n",
       "         99.0572,  99.036 ,  99.0152,  98.9948,  98.9549,  98.9266,\n",
       "         98.8995,  98.8734,  98.8479,  98.8229,  98.7814,  98.7411,\n",
       "         98.7026,  98.6661,  98.6313,  98.5974,  98.5644,  98.5325,\n",
       "         98.5017,  98.4569,  98.4142,  98.3729,  98.3331,  98.2949,\n",
       "         98.2385,  98.1853,  98.1351,  98.0458,  97.9159,  97.8029,\n",
       "         97.703 ,  97.613 ,  97.5302,  97.4533,  97.3816,  97.2811,\n",
       "         97.1899,  97.1071,  97.0309,  96.9599,  96.894 ,  96.8336,\n",
       "         96.7789,  96.7292,  96.6838,  96.6421,  96.6047,  96.5713,\n",
       "         96.5413,  96.514 ,  96.4894,  96.4672,  96.4479,  96.4308,\n",
       "         96.4154,  96.3891,  96.3681,  96.3513,  96.338 ,  96.3224,\n",
       "         96.3118,  96.3046,  96.2997]),\n",
       " 'Dolomite [units=g]': array([50.    , 50.    , 49.9996, 49.9985, 49.9973, 49.9962, 49.9945,\n",
       "        49.9929, 49.9905, 49.9882, 49.986 , 49.984 , 49.982 , 49.9801,\n",
       "        49.9772, 49.9731, 49.9665, 49.9623, 49.9582, 49.9516, 49.9454,\n",
       "        49.9394, 49.9336, 49.928 , 49.9225, 49.9144, 49.9067, 49.8992,\n",
       "        49.8918, 49.8845, 49.8774, 49.8706, 49.8639, 49.8591, 49.8544,\n",
       "        49.8499, 49.8453, 49.8421, 49.8388, 49.8357, 49.8326, 49.8294,\n",
       "        49.8263, 49.8233, 49.8203, 49.8172, 49.8142, 49.8112, 49.8083,\n",
       "        49.8053, 49.8023, 49.7994, 49.7966, 49.7937, 49.7907, 49.7879,\n",
       "        49.7851, 49.7823, 49.7796, 49.7768, 49.774 , 49.7713, 49.7686,\n",
       "        49.7644, 49.7603, 49.7562, 49.7521, 49.7447, 49.7374, 49.7266,\n",
       "        49.7159, 49.7054, 49.695 , 49.6848, 49.6747, 49.6647, 49.6452,\n",
       "        49.6311, 49.6173, 49.6037, 49.5902, 49.577 , 49.5549, 49.5334,\n",
       "        49.5123, 49.4918, 49.4718, 49.4522, 49.4331, 49.4144, 49.3962,\n",
       "        49.3695, 49.3438, 49.3192, 49.2956, 49.2732, 49.2406, 49.2108,\n",
       "        49.1839, 49.1401, 49.0903, 49.0656, 49.0615, 49.0728, 49.0946,\n",
       "        49.1227, 49.1543, 49.2045, 49.2536, 49.2997, 49.342 , 49.3805,\n",
       "        49.4153, 49.4464, 49.4739, 49.4981, 49.5192, 49.538 , 49.5543,\n",
       "        49.5688, 49.5813, 49.5924, 49.602 , 49.6106, 49.6179, 49.6241,\n",
       "        49.6297, 49.6392, 49.6468, 49.6527, 49.6573, 49.6625, 49.666 ,\n",
       "        49.6683, 49.6699])}"
      ]
     },
     "execution_count": 12,
     "metadata": {},
     "output_type": "execute_result"
    }
   ],
   "source": [
    "output.dict()"
   ]
  },
  {
   "cell_type": "markdown",
   "metadata": {},
   "source": [
    "## Step 12: Have fun!"
   ]
  },
  {
   "cell_type": "code",
   "execution_count": 13,
   "metadata": {},
   "outputs": [],
   "source": [
    "import pandas as pd"
   ]
  },
  {
   "cell_type": "code",
   "execution_count": 14,
   "metadata": {},
   "outputs": [
    {
     "data": {
      "text/html": [
       "<div>\n",
       "<style scoped>\n",
       "    .dataframe tbody tr th:only-of-type {\n",
       "        vertical-align: middle;\n",
       "    }\n",
       "\n",
       "    .dataframe tbody tr th {\n",
       "        vertical-align: top;\n",
       "    }\n",
       "\n",
       "    .dataframe thead th {\n",
       "        text-align: right;\n",
       "    }\n",
       "</style>\n",
       "<table border=\"1\" class=\"dataframe\">\n",
       "  <thead>\n",
       "    <tr style=\"text-align: right;\">\n",
       "      <th></th>\n",
       "      <th>time(units=minute)</th>\n",
       "      <th>pH</th>\n",
       "      <th>Ca [mmolal]</th>\n",
       "      <th>Mg [mmolal]</th>\n",
       "      <th>Calcite [units=g]</th>\n",
       "      <th>Dolomite [units=g]</th>\n",
       "    </tr>\n",
       "  </thead>\n",
       "  <tbody>\n",
       "    <tr>\n",
       "      <th>0</th>\n",
       "      <td>0.000000</td>\n",
       "      <td>3.13656</td>\n",
       "      <td>6.000230e-17</td>\n",
       "      <td>5.000190e-17</td>\n",
       "      <td>100.0000</td>\n",
       "      <td>50.0000</td>\n",
       "    </tr>\n",
       "    <tr>\n",
       "      <th>1</th>\n",
       "      <td>0.000002</td>\n",
       "      <td>3.13656</td>\n",
       "      <td>9.732730e-06</td>\n",
       "      <td>5.476290e-07</td>\n",
       "      <td>100.0000</td>\n",
       "      <td>50.0000</td>\n",
       "    </tr>\n",
       "    <tr>\n",
       "      <th>2</th>\n",
       "      <td>0.008120</td>\n",
       "      <td>3.15023</td>\n",
       "      <td>3.394810e-02</td>\n",
       "      <td>1.938490e-03</td>\n",
       "      <td>99.9968</td>\n",
       "      <td>49.9996</td>\n",
       "    </tr>\n",
       "    <tr>\n",
       "      <th>3</th>\n",
       "      <td>0.036087</td>\n",
       "      <td>3.19430</td>\n",
       "      <td>1.436050e-01</td>\n",
       "      <td>8.395880e-03</td>\n",
       "      <td>99.9865</td>\n",
       "      <td>49.9985</td>\n",
       "    </tr>\n",
       "    <tr>\n",
       "      <th>4</th>\n",
       "      <td>0.064055</td>\n",
       "      <td>3.23455</td>\n",
       "      <td>2.448190e-01</td>\n",
       "      <td>1.458940e-02</td>\n",
       "      <td>99.9770</td>\n",
       "      <td>49.9973</td>\n",
       "    </tr>\n",
       "    <tr>\n",
       "      <th>...</th>\n",
       "      <td>...</td>\n",
       "      <td>...</td>\n",
       "      <td>...</td>\n",
       "      <td>...</td>\n",
       "      <td>...</td>\n",
       "      <td>...</td>\n",
       "    </tr>\n",
       "    <tr>\n",
       "      <th>130</th>\n",
       "      <td>1094.970000</td>\n",
       "      <td>4.95013</td>\n",
       "      <td>3.847510e+01</td>\n",
       "      <td>1.860090e+00</td>\n",
       "      <td>96.3380</td>\n",
       "      <td>49.6573</td>\n",
       "    </tr>\n",
       "    <tr>\n",
       "      <th>131</th>\n",
       "      <td>1192.410000</td>\n",
       "      <td>4.95113</td>\n",
       "      <td>3.860330e+01</td>\n",
       "      <td>1.831710e+00</td>\n",
       "      <td>96.3224</td>\n",
       "      <td>49.6625</td>\n",
       "    </tr>\n",
       "    <tr>\n",
       "      <th>132</th>\n",
       "      <td>1289.840000</td>\n",
       "      <td>4.95181</td>\n",
       "      <td>3.869030e+01</td>\n",
       "      <td>1.812830e+00</td>\n",
       "      <td>96.3118</td>\n",
       "      <td>49.6660</td>\n",
       "    </tr>\n",
       "    <tr>\n",
       "      <th>133</th>\n",
       "      <td>1387.280000</td>\n",
       "      <td>4.95227</td>\n",
       "      <td>3.874940e+01</td>\n",
       "      <td>1.800090e+00</td>\n",
       "      <td>96.3046</td>\n",
       "      <td>49.6683</td>\n",
       "    </tr>\n",
       "    <tr>\n",
       "      <th>134</th>\n",
       "      <td>1484.720000</td>\n",
       "      <td>4.95259</td>\n",
       "      <td>3.878970e+01</td>\n",
       "      <td>1.791410e+00</td>\n",
       "      <td>96.2997</td>\n",
       "      <td>49.6699</td>\n",
       "    </tr>\n",
       "  </tbody>\n",
       "</table>\n",
       "<p>135 rows × 6 columns</p>\n",
       "</div>"
      ],
      "text/plain": [
       "     time(units=minute)       pH   Ca [mmolal]   Mg [mmolal]  \\\n",
       "0              0.000000  3.13656  6.000230e-17  5.000190e-17   \n",
       "1              0.000002  3.13656  9.732730e-06  5.476290e-07   \n",
       "2              0.008120  3.15023  3.394810e-02  1.938490e-03   \n",
       "3              0.036087  3.19430  1.436050e-01  8.395880e-03   \n",
       "4              0.064055  3.23455  2.448190e-01  1.458940e-02   \n",
       "..                  ...      ...           ...           ...   \n",
       "130         1094.970000  4.95013  3.847510e+01  1.860090e+00   \n",
       "131         1192.410000  4.95113  3.860330e+01  1.831710e+00   \n",
       "132         1289.840000  4.95181  3.869030e+01  1.812830e+00   \n",
       "133         1387.280000  4.95227  3.874940e+01  1.800090e+00   \n",
       "134         1484.720000  4.95259  3.878970e+01  1.791410e+00   \n",
       "\n",
       "     Calcite [units=g]  Dolomite [units=g]  \n",
       "0             100.0000             50.0000  \n",
       "1             100.0000             50.0000  \n",
       "2              99.9968             49.9996  \n",
       "3              99.9865             49.9985  \n",
       "4              99.9770             49.9973  \n",
       "..                 ...                 ...  \n",
       "130            96.3380             49.6573  \n",
       "131            96.3224             49.6625  \n",
       "132            96.3118             49.6660  \n",
       "133            96.3046             49.6683  \n",
       "134            96.2997             49.6699  \n",
       "\n",
       "[135 rows x 6 columns]"
      ]
     },
     "execution_count": 14,
     "metadata": {},
     "output_type": "execute_result"
    }
   ],
   "source": [
    "df_results = output.DataFrame()\n",
    "\n",
    "df_results"
   ]
  },
  {
   "cell_type": "code",
   "execution_count": 15,
   "metadata": {},
   "outputs": [
    {
     "data": {
      "image/png": "[encoded data removed]",
      "text/plain": [
       "<Figure size 432x288 with 1 Axes>"
      ]
     },
     "metadata": {
      "needs_background": "light"
     },
     "output_type": "display_data"
    }
   ],
   "source": [
    "import seaborn as sns\n",
    "import matplotlib.pyplot as plt\n",
    "\n",
    "sns.lineplot(x=\"time(units=minute)\", y=\"Ca [mmolal]\", data=df_results, label=\"Ca [mmolal]\")\n",
    "sns.lineplot(x=\"time(units=minute)\", y=\"Mg [mmolal]\", data=df_results, label=\"Mg [mmolal]\")\n",
    "plt.xlabel(\"Time [min]\")\n",
    "plt.ylabel(\"Concentration [mmolal]\")\n",
    "plt.legend()\n",
    "\n",
    "plt.show()"
   ]
  },
  {
   "cell_type": "code",
   "execution_count": 16,
   "metadata": {},
   "outputs": [
    {
     "data": {
      "text/plain": [
       "array([3.00134300e-22, 8.56035826e-01, 2.01788914e-06, 5.77661112e-03,\n",
       "       3.08064863e-02, 8.93518671e-06, 2.05598165e-03, 1.17744430e-04,\n",
       "       2.70640797e-09, 4.76197711e-01, 5.80075801e-21, 3.22782947e-22,\n",
       "       2.90434074e-22, 2.12596913e-22, 1.69943266e-05, 3.40428517e-22,\n",
       "       5.54671249e+01, 3.68036098e-21, 7.50609127e-02, 5.97864788e-07,\n",
       "       1.63741399e-19, 2.67503894e-22, 6.74812760e-22, 2.67391528e-04,\n",
       "       1.41422691e-03, 1.37010483e-07, 1.07243120e-04, 1.03061958e-09,\n",
       "       4.78597021e-01, 2.14029771e-02, 1.76566598e-09, 2.66858225e-14,\n",
       "       1.31535701e-08, 7.48930186e-04, 1.03402930e-01, 9.62154993e-01,\n",
       "       9.99990959e-11, 2.69359499e-01, 1.64629216e-21])"
      ]
     },
     "execution_count": 16,
     "metadata": {},
     "output_type": "execute_result"
    }
   ],
   "source": [
    "state0.speciesAmounts()"
   ]
  },
  {
   "cell_type": "code",
   "execution_count": 17,
   "metadata": {},
   "outputs": [
    {
     "name": "stdout",
     "output_type": "stream",
     "text": [
      "CO(aq) 3.001343001796257e-22\n",
      "CO2(aq) 0.8560358256062635\n",
      "CO3-- 2.0178891415628484e-06\n",
      "Ca(HCO3)+ 0.00577661111873367\n",
      "Ca++ 0.030806486307018245\n",
      "CaCO3(aq) 8.935186706244628e-06\n",
      "CaCl+ 0.002055981654003492\n",
      "CaCl2(aq) 0.00011774443007317395\n",
      "CaOH+ 2.7064079745846202e-09\n",
      "Cl- 0.4761977113852356\n",
      "ClO- 5.800758010866725e-21\n",
      "ClO2- 3.227829470768543e-22\n",
      "ClO3- 2.9043407370557392e-22\n",
      "ClO4- 2.125969126829123e-22\n",
      "H+ 1.6994326617229685e-05\n",
      "H2(aq) 3.4042851664875535e-22\n",
      "H2O(l) 55.4671248685036\n",
      "H2O2(aq) 3.680360984644366e-21\n",
      "HCO3- 0.07506091270958197\n",
      "HCl(aq) 5.978647878042006e-07\n",
      "HClO(aq) 1.6374139930157824e-19\n",
      "HClO2(aq) 2.6750389408263305e-22\n",
      "HO2- 6.748127595162454e-22\n",
      "Mg(HCO3)+ 0.00026739152791485627\n",
      "Mg++ 0.0014142269051343232\n",
      "MgCO3(aq) 1.3701048259191328e-07\n",
      "MgCl+ 0.0001072431197807891\n",
      "MgOH+ 1.0306195770573456e-09\n",
      "Na+ 0.478597021118288\n",
      "NaCl(aq) 0.021402977116045996\n",
      "NaOH(aq) 1.7656659815013862e-09\n",
      "O2(aq) 2.6685822470739775e-14\n",
      "OH- 1.3153570053297993e-08\n",
      "H2O(g) 0.0007489301864284924\n",
      "CO2(g) 0.10340292994805178\n",
      "Calcite 0.9621549926963225\n",
      "Magnesite 9.999909592456997e-11\n",
      "Dolomite 0.26935949867722625\n",
      "Halite 1.6462921610257497e-21\n"
     ]
    }
   ],
   "source": [
    "num_of_species = system.numSpecies()\n",
    "for species_index in range(num_of_species):\n",
    "    print(system.species()[species_index].name(), state0.speciesAmount(species_index))"
   ]
  },
  {
   "cell_type": "code",
   "execution_count": 18,
   "metadata": {},
   "outputs": [
    {
     "data": {
      "text/plain": [
       "4.952627628014553"
      ]
     },
     "execution_count": 18,
     "metadata": {},
     "output_type": "execute_result"
    }
   ],
   "source": [
    "properties = state0.properties()\n",
    "evaluate_pH = ChemicalProperty.pH(system)\n",
    "pH = evaluate_pH(properties)\n",
    "\n",
    "pH.val"
   ]
  }
 ],
 "metadata": {
  "kernelspec": {
   "display_name": "Python 3",
   "language": "python",
   "name": "python3"
  },
  "language_info": {
   "codemirror_mode": {
    "name": "ipython",
    "version": 3
   },
   "file_extension": ".py",
   "mimetype": "text/x-python",
   "name": "python",
   "nbconvert_exporter": "python",
   "pygments_lexer": "ipython3",
   "version": "3.7.6"
  }
 },
 "nbformat": 4,
 "nbformat_minor": 4
}
